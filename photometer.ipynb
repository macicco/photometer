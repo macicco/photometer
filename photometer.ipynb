{
 "cells": [
  {
   "cell_type": "code",
   "execution_count": 2,
   "metadata": {
    "collapsed": false
   },
   "outputs": [],
   "source": [
    "from gui import *\n",
    "GUI(['Mal','Simon','River'],0.0,30.0,'images/1150228.jpg')"
   ]
  },
  {
   "cell_type": "code",
   "execution_count": 2,
   "metadata": {
    "collapsed": true
   },
   "outputs": [],
   "source": [
    "from __future__ import print_function\n",
    "from ipywidgets import *\n",
    "from traitlets import Integer, HasTraits, link\n",
    "from IPython.display import display\n",
    "from reducer.image_browser import FitsViewer\n",
    "\n",
    "\n",
    "class FileSelect(Box):\n",
    "    def __init__(self, fileList = [0]):\n",
    "        self._aButton = Dropdown(options = fileList,\n",
    "                                 value = fileList[0],\n",
    "                                 description = \"Image\")\n",
    "        self._dropdown = Dropdown(options = fileList,\n",
    "                     value = fileList[0],\n",
    "                    description = \"Method\")\n",
    "        super(FileSelect, self).__init__(children = [self._aButton, self._dropdown],\n",
    "                                layout = Layout(display='flex',\n",
    "                                                flex_flow='row',\n",
    "                                                align_items='stretch',\n",
    "                                                width='100%'))\n",
    "\n",
    "class SettingSlider(Box):\n",
    "    def __init__(self, d = 'Description',minimum = 0.0, maximum = 50.0):\n",
    "        self._slide = FloatSlider(value = minimum,\n",
    "                                 min = minimum,\n",
    "                                 max = maximum,\n",
    "                                 step = 0.1,\n",
    "                                 description = d)\n",
    "        self._text = BoundedFloatText(value = minimum,\n",
    "                                             min = minimum,\n",
    "                                             max = maximum)\n",
    "        link((self._slide,'value'),(self._text,'value'))\n",
    "        super(SettingSlider, self).__init__(children = [self._slide, self._text],\n",
    "                                layout = Layout(display='flex',\n",
    "                                                flex_flow='row',\n",
    "                                                align_items='stretch',\n",
    "                                                width='100%'))\n",
    "class ImageViewer(Box):\n",
    "    def __init__(self,image_path):\n",
    "        imageOpen = open(image_path,\"rb\")\n",
    "        image = imageOpen.read()\n",
    "        self._viewer = Image(value=image,format='jpg',width=600,height=400)\n",
    "        super(ImageViewer, self).__init__(children = [self._viewer],\n",
    "                                layout = Layout(display='flex',\n",
    "                                                flex_flow='row',\n",
    "                                                align_items='stretch',\n",
    "                                                width='50%'))\n",
    "\n",
    "class GUI(Box):\n",
    "    def __init__(self, fileList, minimum, maximum,image_path):\n",
    "        self._file = FileSelect(fileList)\n",
    "        self._view = ImageViewer(image_path)\n",
    "        self._aperture = SettingSlider(\"Aperture\", minimum, maximum)\n",
    "        self._gap = SettingSlider(\"Gap\", minimum, maximum)\n",
    "        self._annulus = SettingSlider(\"Annulus\", minimum, maximum)\n",
    "        self._go = Button(description = 'Go!')\n",
    "        super(GUI, self).__init__(children = [self._file, self._view,\n",
    "                                              self._aperture, self._gap,\n",
    "                                              self._annulus, self._go],\n",
    "                                            layout = Layout(display='flex',\n",
    "                                                            flex_flow='column',\n",
    "                                                            align_items='stretch',\n",
    "                                                            width='50%'))\n",
    "class TabGUI(Tab):\n",
    "    def __init__(self):\n",
    "        self._firstTab = GUI(['Mal','Simon','River'],0.0,30.0,'images/1150228.jpg')\n",
    "        self._secondTab = SettingSlider(\"Aperture\", 2, 3)\n",
    "        super(TabGUI,self).__init__(children = [self._firstTab, self._secondTab],\n",
    "                                   _titles = {0:\"First Method\", 1:\"Second Method\"})"
   ]
  },
  {
   "cell_type": "code",
   "execution_count": 3,
   "metadata": {
    "collapsed": false
   },
   "outputs": [],
   "source": [
    "a = TabGUI()\n",
    "a.selected_index = 1\n",
    "a"
   ]
  },
  {
   "cell_type": "code",
   "execution_count": 15,
   "metadata": {
    "collapsed": false
   },
   "outputs": [
    {
     "data": {
      "text/plain": [
       "0"
      ]
     },
     "execution_count": 15,
     "metadata": {},
     "output_type": "execute_result"
    }
   ],
   "source": [
    "a.selected_index"
   ]
  },
  {
   "cell_type": "code",
   "execution_count": null,
   "metadata": {
    "collapsed": true
   },
   "outputs": [],
   "source": []
  }
 ],
 "metadata": {
  "kernelspec": {
   "display_name": "Python [Root]",
   "language": "python",
   "name": "Python [Root]"
  },
  "language_info": {
   "codemirror_mode": {
    "name": "ipython",
    "version": 2
   },
   "file_extension": ".py",
   "mimetype": "text/x-python",
   "name": "python",
   "nbconvert_exporter": "python",
   "pygments_lexer": "ipython2",
   "version": "2.7.12"
  },
  "widgets": {
   "state": {
    "b72ab0499620416c8870a14585b73ce8": {
     "views": [
      {
       "cell_index": 0
      }
     ]
    }
   },
   "version": "1.2.0"
  }
 },
 "nbformat": 4,
 "nbformat_minor": 0
}
