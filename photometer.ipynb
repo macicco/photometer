{
 "cells": [
  {
   "cell_type": "code",
   "execution_count": 2,
   "metadata": {
    "collapsed": false
   },
   "outputs": [],
   "source": [
    "from __future__ import print_function\n",
    "from ipywidgets import * \n",
    "import ipywidgets as widgets\n",
    "from traitlets import Integer, HasTraits\n",
    "from Tkinter import Tk\n",
    "from tkFileDialog import askopenfilename\n",
    "from IPython.display import display\n",
    "\n",
    "#Assume this notebook will be run in the directory with the images. \n",
    "#Variables a_b --> classes AaaaBbbbbb"
   ]
  },
  {
   "cell_type": "code",
   "execution_count": 5,
   "metadata": {
    "collapsed": false
   },
   "outputs": [],
   "source": [
    "fileList = [\"Mal\",\"Simon\",\"River\"]\n",
    "\n",
    "fileFinder_layout = Layout(flex = '1 1 auto', width = 'auto')\n",
    "finderItems = [\n",
    "    Button(description = 'Select File(s)'),\n",
    "    widgets.Dropdown(options = fileList,\n",
    "                     value = \"Simon\",\n",
    "                    description = \"Please enter image(s)\")\n",
    "                    \n",
    "]\n",
    "\n",
    "box_layout = Layout(display='flex',\n",
    "                    flex_flow='row', \n",
    "                    align_items='stretch', \n",
    "                    border='solid',\n",
    "                    width='50%')\n",
    "box = Box(children=finderItems, layout=box_layout)\n",
    "box"
   ]
  },
  {
   "cell_type": "code",
   "execution_count": null,
   "metadata": {
    "collapsed": true
   },
   "outputs": [],
   "source": []
  }
 ],
 "metadata": {
  "kernelspec": {
   "display_name": "Python [Root]",
   "language": "python",
   "name": "Python [Root]"
  },
  "language_info": {
   "codemirror_mode": {
    "name": "ipython",
    "version": 2
   },
   "file_extension": ".py",
   "mimetype": "text/x-python",
   "name": "python",
   "nbconvert_exporter": "python",
   "pygments_lexer": "ipython2",
   "version": "2.7.12"
  },
  "widgets": {
   "state": {
    "e7197023d54944bfbf383ff04b88a9b8": {
     "views": [
      {
       "cell_index": 1
      }
     ]
    }
   },
   "version": "1.2.0"
  }
 },
 "nbformat": 4,
 "nbformat_minor": 0
}
