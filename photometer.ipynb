{
 "cells": [
  {
   "cell_type": "code",
   "execution_count": 1,
   "metadata": {
    "collapsed": false
   },
   "outputs": [],
   "source": [
    "from __future__ import print_function\n",
    "from ipywidgets import * \n",
    "import ipywidgets as widgets\n",
    "from traitlets import Integer, HasTraits, link\n",
    "from Tkinter import Tk\n",
    "from tkFileDialog import askopenfilename\n",
    "from IPython.display import display\n",
    "\n",
    "#Assume this notebook will be run in the directory with the images. \n",
    "#Combine everything (class of type box)"
   ]
  },
  {
   "cell_type": "code",
   "execution_count": null,
   "metadata": {
    "collapsed": false
   },
   "outputs": [],
   "source": [
    "fileList = [\"Mal\",\"Simon\",\"River\"]\n",
    "\n",
    "fileFinder_layout = Layout(flex = '1 1 auto', width = 'auto')\n",
    "finderItems = [\n",
    "    Button(description = 'Select File(s)'),\n",
    "    widgets.Dropdown(options = fileList,\n",
    "                     value = \"Simon\",\n",
    "                    description = \"Please enter image(s)\")\n",
    "                    \n",
    "]\n",
    "\n",
    "box_layout = Layout(display='flex',\n",
    "                    flex_flow='row', \n",
    "                    align_items='stretch', \n",
    "                    width='50%')\n",
    "box = Box(children=finderItems, layout=box_layout)\n",
    "box"
   ]
  },
  {
   "cell_type": "code",
   "execution_count": null,
   "metadata": {
    "collapsed": true
   },
   "outputs": [],
   "source": [
    "class FileSelect(Box):\n",
    "    def __init__(self, fileList = [0]):\n",
    "        self._aButton = Button(description = 'Placeholder')\n",
    "        self._dropdown = Dropdown(options = fileList,\n",
    "                     value = fileList[0],\n",
    "                    description = \"Please select image\")\n",
    "        super(FileSelect, self).__init__(children = [self._aButton, self._dropdown],\n",
    "                                layout = Layout(display='flex',\n",
    "                                                flex_flow='row', \n",
    "                                                align_items='stretch', \n",
    "                                                width='50%'))"
   ]
  },
  {
   "cell_type": "code",
   "execution_count": null,
   "metadata": {
    "collapsed": false
   },
   "outputs": [],
   "source": [
    "class SettingSlider(Box):\n",
    "    def __init__(self, d = 'Description',minimum = 0.0, maximum = 50.0):\n",
    "        self._slide = FloatSlider(value = minimum,\n",
    "                                 min = minimum,\n",
    "                                 max = maximum,\n",
    "                                 step = 0.1,\n",
    "                                 description = d)\n",
    "        self._text = BoundedFloatText(value = minimum,\n",
    "                                             min = minimum,\n",
    "                                             max = maximum)\n",
    "        link((self._slide,'value'),(self._text,'value'))\n",
    "        super(SettingSlider, self).__init__(children = [self._slide, self._text],\n",
    "                                layout = Layout(display='flex',\n",
    "                                                flex_flow='row', \n",
    "                                                align_items='stretch', \n",
    "                                                width='50%'))\n",
    "        "
   ]
  },
  {
   "cell_type": "code",
   "execution_count": null,
   "metadata": {
    "collapsed": false
   },
   "outputs": [],
   "source": [
    "\n",
    "x = SettingSlider(\"Test\",1.0,5.0)\n",
    "x"
   ]
  },
  {
   "cell_type": "code",
   "execution_count": null,
   "metadata": {
    "collapsed": false
   },
   "outputs": [],
   "source": [
    "FileSelect(['Mal','Simon','River'])"
   ]
  },
  {
   "cell_type": "code",
   "execution_count": 2,
   "metadata": {
    "collapsed": true
   },
   "outputs": [],
   "source": [
    "class GUI():\n",
    "    class FileSelect(Box):\n",
    "        def __init__(self, fileList):\n",
    "            self._aButton = Button(description = 'Placeholder')\n",
    "            self._dropdown = Dropdown(options = fileList,\n",
    "                         value = fileList[0],\n",
    "                        description = \"Please select image\")\n",
    "            super(FileSelect, self).__init__(children = [self._aButton, self._dropdown],\n",
    "                                    layout = Layout(display='flex',\n",
    "                                                    flex_flow='row', \n",
    "                                                    align_items='stretch', \n",
    "                                                    width='50%'))\n",
    "    class SettingSlider(Box):\n",
    "        def __init__(self, d, minimum, maximum):\n",
    "            self._slide = FloatSlider(value = minimum,\n",
    "                                     min = minimum,\n",
    "                                     max = maximum,\n",
    "                                     step = 0.1,\n",
    "                                     description = d)\n",
    "            self._text = BoundedFloatText(value = minimum,\n",
    "                                                 min = minimum,\n",
    "                                                 max = maximum)\n",
    "            link((self._slide,'value'),(self._text,'value'))\n",
    "            super(SettingSlider, self).__init__(children = [self._slide, self._text],\n",
    "                                    layout = Layout(display='flex',\n",
    "                                                    flex_flow='row', \n",
    "                                                    align_items='stretch', \n",
    "                                                    width='50%'))\n",
    "            \n",
    "    def __init__(self, fileList = [0], description = 'Description', minimum = 0.0, maximum = 50.0):\n",
    "        self._file = GUI.FileSelect(fileList)\n",
    "        self._settings = GUI.SettingSlider(description, minimum, maximum)\n",
    "    \n",
    "    \n",
    "    "
   ]
  },
  {
   "cell_type": "code",
   "execution_count": 3,
   "metadata": {
    "collapsed": false
   },
   "outputs": [
    {
     "ename": "NameError",
     "evalue": "global name 'FileSelect' is not defined",
     "output_type": "error",
     "traceback": [
      "\u001b[1;31m---------------------------------------------------------------------------\u001b[0m",
      "\u001b[1;31mNameError\u001b[0m                                 Traceback (most recent call last)",
      "\u001b[1;32m<ipython-input-3-f7d6766bedc8>\u001b[0m in \u001b[0;36m<module>\u001b[1;34m()\u001b[0m\n\u001b[1;32m----> 1\u001b[1;33m \u001b[0mGUI\u001b[0m\u001b[1;33m(\u001b[0m\u001b[1;33m[\u001b[0m\u001b[1;34m'Mal'\u001b[0m\u001b[1;33m,\u001b[0m\u001b[1;34m'Simon'\u001b[0m\u001b[1;33m,\u001b[0m\u001b[1;34m'River'\u001b[0m\u001b[1;33m]\u001b[0m\u001b[1;33m,\u001b[0m\u001b[1;34m'Description'\u001b[0m\u001b[1;33m,\u001b[0m\u001b[1;36m0.0\u001b[0m\u001b[1;33m,\u001b[0m\u001b[1;36m30.0\u001b[0m\u001b[1;33m)\u001b[0m\u001b[1;33m\u001b[0m\u001b[0m\n\u001b[0m",
      "\u001b[1;32m<ipython-input-2-143842cde8d1>\u001b[0m in \u001b[0;36m__init__\u001b[1;34m(self, fileList, description, minimum, maximum)\u001b[0m\n\u001b[0;32m     29\u001b[0m \u001b[1;33m\u001b[0m\u001b[0m\n\u001b[0;32m     30\u001b[0m     \u001b[1;32mdef\u001b[0m \u001b[0m__init__\u001b[0m\u001b[1;33m(\u001b[0m\u001b[0mself\u001b[0m\u001b[1;33m,\u001b[0m \u001b[0mfileList\u001b[0m \u001b[1;33m=\u001b[0m \u001b[1;33m[\u001b[0m\u001b[1;36m0\u001b[0m\u001b[1;33m]\u001b[0m\u001b[1;33m,\u001b[0m \u001b[0mdescription\u001b[0m \u001b[1;33m=\u001b[0m \u001b[1;34m'Description'\u001b[0m\u001b[1;33m,\u001b[0m \u001b[0mminimum\u001b[0m \u001b[1;33m=\u001b[0m \u001b[1;36m0.0\u001b[0m\u001b[1;33m,\u001b[0m \u001b[0mmaximum\u001b[0m \u001b[1;33m=\u001b[0m \u001b[1;36m50.0\u001b[0m\u001b[1;33m)\u001b[0m\u001b[1;33m:\u001b[0m\u001b[1;33m\u001b[0m\u001b[0m\n\u001b[1;32m---> 31\u001b[1;33m         \u001b[0mself\u001b[0m\u001b[1;33m.\u001b[0m\u001b[0m_file\u001b[0m \u001b[1;33m=\u001b[0m \u001b[0mGUI\u001b[0m\u001b[1;33m.\u001b[0m\u001b[0mFileSelect\u001b[0m\u001b[1;33m(\u001b[0m\u001b[0mfileList\u001b[0m\u001b[1;33m)\u001b[0m\u001b[1;33m\u001b[0m\u001b[0m\n\u001b[0m\u001b[0;32m     32\u001b[0m         \u001b[0mself\u001b[0m\u001b[1;33m.\u001b[0m\u001b[0m_settings\u001b[0m \u001b[1;33m=\u001b[0m \u001b[0mGUI\u001b[0m\u001b[1;33m.\u001b[0m\u001b[0mSettingSlider\u001b[0m\u001b[1;33m(\u001b[0m\u001b[0mdescription\u001b[0m\u001b[1;33m,\u001b[0m \u001b[0mminimum\u001b[0m\u001b[1;33m,\u001b[0m \u001b[0mmaximum\u001b[0m\u001b[1;33m)\u001b[0m\u001b[1;33m\u001b[0m\u001b[0m\n\u001b[0;32m     33\u001b[0m \u001b[1;33m\u001b[0m\u001b[0m\n",
      "\u001b[1;32m<ipython-input-2-143842cde8d1>\u001b[0m in \u001b[0;36m__init__\u001b[1;34m(self, fileList)\u001b[0m\n\u001b[0;32m      6\u001b[0m                          \u001b[0mvalue\u001b[0m \u001b[1;33m=\u001b[0m \u001b[0mfileList\u001b[0m\u001b[1;33m[\u001b[0m\u001b[1;36m0\u001b[0m\u001b[1;33m]\u001b[0m\u001b[1;33m,\u001b[0m\u001b[1;33m\u001b[0m\u001b[0m\n\u001b[0;32m      7\u001b[0m                         description = \"Please select image\")\n\u001b[1;32m----> 8\u001b[1;33m             super(FileSelect, self).__init__(children = [self._aButton, self._dropdown],\n\u001b[0m\u001b[0;32m      9\u001b[0m                                     layout = Layout(display='flex',\n\u001b[0;32m     10\u001b[0m                                                     \u001b[0mflex_flow\u001b[0m\u001b[1;33m=\u001b[0m\u001b[1;34m'row'\u001b[0m\u001b[1;33m,\u001b[0m\u001b[1;33m\u001b[0m\u001b[0m\n",
      "\u001b[1;31mNameError\u001b[0m: global name 'FileSelect' is not defined"
     ]
    }
   ],
   "source": [
    "GUI(['Mal','Simon','River'],'Description',0.0,30.0)"
   ]
  },
  {
   "cell_type": "code",
   "execution_count": null,
   "metadata": {
    "collapsed": true
   },
   "outputs": [],
   "source": []
  }
 ],
 "metadata": {
  "kernelspec": {
   "display_name": "Python [Root]",
   "language": "python",
   "name": "Python [Root]"
  },
  "language_info": {
   "codemirror_mode": {
    "name": "ipython",
    "version": 2
   },
   "file_extension": ".py",
   "mimetype": "text/x-python",
   "name": "python",
   "nbconvert_exporter": "python",
   "pygments_lexer": "ipython2",
   "version": "2.7.12"
  },
  "widgets": {
   "state": {
    "0d9a049dd9bb49c2aea0527882615365": {
     "views": [
      {
       "cell_index": 1
      }
     ]
    },
    "11487e41ed7949dab5106e969452529c": {
     "views": [
      {
       "cell_index": 4
      }
     ]
    }
   },
   "version": "1.2.0"
  }
 },
 "nbformat": 4,
 "nbformat_minor": 0
}
