{
 "cells": [
  {
   "cell_type": "code",
   "execution_count": 1,
   "metadata": {
    "collapsed": false
   },
   "outputs": [],
   "source": [
    "from __future__ import print_function\n",
    "from ipywidgets import * \n",
    "import ipywidgets as widgets\n",
    "from traitlets import Integer, HasTraits, link\n",
    "from Tkinter import Tk\n",
    "from tkFileDialog import askopenfilename\n",
    "from IPython.display import display\n",
    "\n",
    "#Assume this notebook will be run in the directory with the images. "
   ]
  },
  {
   "cell_type": "code",
   "execution_count": 11,
   "metadata": {
    "collapsed": false
   },
   "outputs": [],
   "source": [
    "fileList = [\"Mal\",\"Simon\",\"River\"]\n",
    "\n",
    "fileFinder_layout = Layout(flex = '1 1 auto', width = 'auto')\n",
    "finderItems = [\n",
    "    Button(description = 'Select File(s)'),\n",
    "    widgets.Dropdown(options = fileList,\n",
    "                     value = \"Simon\",\n",
    "                    description = \"Please enter image(s)\")\n",
    "                    \n",
    "]\n",
    "\n",
    "box_layout = Layout(display='flex',\n",
    "                    flex_flow='row', \n",
    "                    align_items='stretch', \n",
    "                    width='50%')\n",
    "box = Box(children=finderItems, layout=box_layout)\n",
    "box"
   ]
  },
  {
   "cell_type": "code",
   "execution_count": 22,
   "metadata": {
    "collapsed": true
   },
   "outputs": [],
   "source": [
    "class FileSelect(Box):\n",
    "    def __init__(self, fileList = [0]):\n",
    "        self._aButton = Button(description = 'Placeholder')\n",
    "        self._dropdown = Dropdown(options = fileList,\n",
    "                     value = fileList[0],\n",
    "                    description = \"Please select image\")\n",
    "        super(FileSelect, self).__init__(children = [self._aButton, self._dropdown],\n",
    "                                layout = Layout(display='flex',\n",
    "                                                flex_flow='row', \n",
    "                                                align_items='stretch', \n",
    "                                                width='50%'))"
   ]
  },
  {
   "cell_type": "code",
   "execution_count": 23,
   "metadata": {
    "collapsed": false
   },
   "outputs": [],
   "source": [
    "class SettingSlider(Box):\n",
    "    def __init__(self, d = 'Description',minimum = 0.0, maximum = 50.0):\n",
    "        self._slide = FloatSlider(value = minimum,\n",
    "                                 min = minimum,\n",
    "                                 max = maximum,\n",
    "                                 step = 0.1,\n",
    "                                 description = d)\n",
    "        self._text = BoundedFloatText(value = minimum,\n",
    "                                             min = minimum,\n",
    "                                             max = maximum)\n",
    "        link((self._slide,'value'),(self._text,'value'))\n",
    "        super(SettingSlider, self).__init__(children = [self._slide, self._text],\n",
    "                                layout = Layout(display='flex',\n",
    "                                                flex_flow='row', \n",
    "                                                align_items='stretch', \n",
    "                                                width='50%'))\n",
    "        "
   ]
  },
  {
   "cell_type": "code",
   "execution_count": 24,
   "metadata": {
    "collapsed": false
   },
   "outputs": [],
   "source": [
    "\n",
    "SettingSlider(\"Test\",1.0,5.0)"
   ]
  },
  {
   "cell_type": "code",
   "execution_count": 26,
   "metadata": {
    "collapsed": false
   },
   "outputs": [],
   "source": [
    "FileSelect(['Mal','Simon','River'])"
   ]
  },
  {
   "cell_type": "code",
   "execution_count": null,
   "metadata": {
    "collapsed": true
   },
   "outputs": [],
   "source": []
  }
 ],
 "metadata": {
  "kernelspec": {
   "display_name": "Python [Root]",
   "language": "python",
   "name": "Python [Root]"
  },
  "language_info": {
   "codemirror_mode": {
    "name": "ipython",
    "version": 2
   },
   "file_extension": ".py",
   "mimetype": "text/x-python",
   "name": "python",
   "nbconvert_exporter": "python",
   "pygments_lexer": "ipython2",
   "version": "2.7.12"
  },
  "widgets": {
   "state": {
    "9eb6f63167774702831646aedb5c9088": {
     "views": [
      {
       "cell_index": 4
      }
     ]
    },
    "fdd9af03b83f4812943bbb4a6fc590d5": {
     "views": [
      {
       "cell_index": 5
      }
     ]
    }
   },
   "version": "1.2.0"
  }
 },
 "nbformat": 4,
 "nbformat_minor": 0
}
